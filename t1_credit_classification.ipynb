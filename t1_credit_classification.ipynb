{
 "cells": [
  {
   "cell_type": "code",
   "execution_count": 1,
   "id": "d6dc80ec",
   "metadata": {},
   "outputs": [],
   "source": [
    "import pandas as pd\n",
    "import numpy as np\n",
    "import matplotlib.pyplot as plt\n",
    "import seaborn as sns\n",
    "\n",
    "import sklearn\n",
    "\n",
    "from sklearn.metrics import confusion_matrix, accuracy_score, recall_score, precision_score, f1_score\n",
    "from collections import OrderedDict\n",
    "from tabulate import tabulate\n",
    "\n",
    "from sklearn.model_selection import train_test_split \n",
    "from sklearn.preprocessing import MinMaxScaler\n",
    "from sklearn.preprocessing import StandardScaler\n",
    "from sklearn.metrics import classification_report\n",
    "\n",
    "\n",
    "# Classificadores:\n",
    "from sklearn.ensemble import RandomForestClassifier\n",
    "from sklearn.neighbors import KNeighborsClassifier\n",
    "from sklearn import tree\n",
    "from sklearn import svm"
   ]
  },
  {
   "cell_type": "markdown",
   "id": "ca791d27",
   "metadata": {},
   "source": [
    "# CLASSIFICAÇÃO DO DATASET CREDIT SCORE\n",
    "### Carregando o dataset tratado"
   ]
  },
  {
   "cell_type": "code",
   "execution_count": 2,
   "id": "b28ff6bb",
   "metadata": {
    "scrolled": true
   },
   "outputs": [
    {
     "name": "stdout",
     "output_type": "stream",
     "text": [
      "<class 'pandas.core.frame.DataFrame'>\n",
      "RangeIndex: 99999 entries, 0 to 99998\n",
      "Data columns (total 25 columns):\n",
      " #   Column              Non-Null Count  Dtype  \n",
      "---  ------              --------------  -----  \n",
      " 0   23                  99999 non-null  int64  \n",
      " 1   1824.8433333333328  99999 non-null  float64\n",
      " 2   3                   99999 non-null  int64  \n",
      " 3   4                   99999 non-null  int64  \n",
      " 4   3.1                 99999 non-null  int64  \n",
      " 5   4.1                 99999 non-null  int64  \n",
      " 6   3.2                 99999 non-null  int64  \n",
      " 7   7                   99999 non-null  int64  \n",
      " 8   11.27               99999 non-null  float64\n",
      " 9   4.2                 99999 non-null  int64  \n",
      " 10  809.98              99999 non-null  float64\n",
      " 11  26.822619623699016  99999 non-null  float64\n",
      " 12  0                   99999 non-null  int64  \n",
      " 13  49.57494921489417   99999 non-null  float64\n",
      " 14  80.41529543900253   99999 non-null  float64\n",
      " 15  312.49408867943663  99999 non-null  float64\n",
      " 16  1                   99999 non-null  int64  \n",
      " 17  1.0                 99999 non-null  float64\n",
      " 18  0.0                 99999 non-null  float64\n",
      " 19  0.0.1               99999 non-null  float64\n",
      " 20  1.0.1               99999 non-null  float64\n",
      " 21  0.0.2               99999 non-null  float64\n",
      " 22  0.0.3               99999 non-null  float64\n",
      " 23  0.0.4               99999 non-null  float64\n",
      " 24  0.0.5               99999 non-null  float64\n",
      "dtypes: float64(15), int64(10)\n",
      "memory usage: 19.1 MB\n"
     ]
    }
   ],
   "source": [
    "train_path = 'archive/ready_train_occ.csv'\n",
    "test_path  = 'archive/ready_test_occ.csv'\n",
    "\n",
    "train_df = pd.read_csv(train_path)\n",
    "test_df = pd.read_csv(test_path)\n",
    "#test_df = test_df.drop(columns = \"Unnamed: 0\")\n",
    "#df = df.drop(columns = 'Unnamed: 0')\n",
    "train_df.info()"
   ]
  },
  {
   "cell_type": "code",
   "execution_count": 3,
   "id": "b4455b99",
   "metadata": {
    "scrolled": true
   },
   "outputs": [
    {
     "name": "stdout",
     "output_type": "stream",
     "text": [
      "<class 'pandas.core.frame.DataFrame'>\n",
      "RangeIndex: 49999 entries, 0 to 49998\n",
      "Data columns (total 24 columns):\n",
      " #   Column              Non-Null Count  Dtype  \n",
      "---  ------              --------------  -----  \n",
      " 0   23                  49999 non-null  int64  \n",
      " 1   1824.8433333333328  49999 non-null  float64\n",
      " 2   3                   49999 non-null  int64  \n",
      " 3   4                   49999 non-null  int64  \n",
      " 4   3.1                 49999 non-null  int64  \n",
      " 5   4.1                 49999 non-null  int64  \n",
      " 6   3.2                 49999 non-null  int64  \n",
      " 7   7                   49999 non-null  int64  \n",
      " 8   11.27               49999 non-null  float64\n",
      " 9   4.2                 49999 non-null  int64  \n",
      " 10  809.98              49999 non-null  float64\n",
      " 11  35.03040185583525   49999 non-null  float64\n",
      " 12  0                   49999 non-null  int64  \n",
      " 13  49.57494921489417   49999 non-null  float64\n",
      " 14  236.64268203272132  49999 non-null  float64\n",
      " 15  186.26670208571767  49999 non-null  float64\n",
      " 16  1                   49999 non-null  int64  \n",
      " 17  1.0                 49999 non-null  float64\n",
      " 18  0.0                 49999 non-null  float64\n",
      " 19  0.0.1               49999 non-null  float64\n",
      " 20  0.0.2               49999 non-null  float64\n",
      " 21  0.0.3               49999 non-null  float64\n",
      " 22  0.0.4               49999 non-null  float64\n",
      " 23  1.0.1               49999 non-null  float64\n",
      "dtypes: float64(14), int64(10)\n",
      "memory usage: 9.2 MB\n"
     ]
    }
   ],
   "source": [
    "test_df.info()"
   ]
  },
  {
   "cell_type": "code",
   "execution_count": 4,
   "id": "21d1f68d",
   "metadata": {},
   "outputs": [
    {
     "data": {
      "text/html": [
       "<div>\n",
       "<style scoped>\n",
       "    .dataframe tbody tr th:only-of-type {\n",
       "        vertical-align: middle;\n",
       "    }\n",
       "\n",
       "    .dataframe tbody tr th {\n",
       "        vertical-align: top;\n",
       "    }\n",
       "\n",
       "    .dataframe thead th {\n",
       "        text-align: right;\n",
       "    }\n",
       "</style>\n",
       "<table border=\"1\" class=\"dataframe\">\n",
       "  <thead>\n",
       "    <tr style=\"text-align: right;\">\n",
       "      <th></th>\n",
       "      <th>23</th>\n",
       "      <th>1824.8433333333328</th>\n",
       "      <th>3</th>\n",
       "      <th>4</th>\n",
       "      <th>3.1</th>\n",
       "      <th>4.1</th>\n",
       "      <th>3.2</th>\n",
       "      <th>7</th>\n",
       "      <th>11.27</th>\n",
       "      <th>4.2</th>\n",
       "      <th>...</th>\n",
       "      <th>312.49408867943663</th>\n",
       "      <th>1</th>\n",
       "      <th>1.0</th>\n",
       "      <th>0.0</th>\n",
       "      <th>0.0.1</th>\n",
       "      <th>1.0.1</th>\n",
       "      <th>0.0.2</th>\n",
       "      <th>0.0.3</th>\n",
       "      <th>0.0.4</th>\n",
       "      <th>0.0.5</th>\n",
       "    </tr>\n",
       "  </thead>\n",
       "  <tbody>\n",
       "    <tr>\n",
       "      <th>0</th>\n",
       "      <td>23</td>\n",
       "      <td>1824.843333</td>\n",
       "      <td>3</td>\n",
       "      <td>4</td>\n",
       "      <td>3</td>\n",
       "      <td>4</td>\n",
       "      <td>0</td>\n",
       "      <td>6</td>\n",
       "      <td>11.270000</td>\n",
       "      <td>4</td>\n",
       "      <td>...</td>\n",
       "      <td>284.629162</td>\n",
       "      <td>1</td>\n",
       "      <td>1.0</td>\n",
       "      <td>0.0</td>\n",
       "      <td>0.0</td>\n",
       "      <td>0.0</td>\n",
       "      <td>1.0</td>\n",
       "      <td>0.0</td>\n",
       "      <td>0.0</td>\n",
       "      <td>0.0</td>\n",
       "    </tr>\n",
       "    <tr>\n",
       "      <th>1</th>\n",
       "      <td>23</td>\n",
       "      <td>1824.843333</td>\n",
       "      <td>3</td>\n",
       "      <td>4</td>\n",
       "      <td>3</td>\n",
       "      <td>4</td>\n",
       "      <td>3</td>\n",
       "      <td>7</td>\n",
       "      <td>10.906364</td>\n",
       "      <td>4</td>\n",
       "      <td>...</td>\n",
       "      <td>331.209863</td>\n",
       "      <td>1</td>\n",
       "      <td>1.0</td>\n",
       "      <td>0.0</td>\n",
       "      <td>0.0</td>\n",
       "      <td>0.0</td>\n",
       "      <td>0.0</td>\n",
       "      <td>1.0</td>\n",
       "      <td>0.0</td>\n",
       "      <td>0.0</td>\n",
       "    </tr>\n",
       "    <tr>\n",
       "      <th>2</th>\n",
       "      <td>23</td>\n",
       "      <td>1824.843333</td>\n",
       "      <td>3</td>\n",
       "      <td>4</td>\n",
       "      <td>3</td>\n",
       "      <td>4</td>\n",
       "      <td>5</td>\n",
       "      <td>4</td>\n",
       "      <td>6.270000</td>\n",
       "      <td>4</td>\n",
       "      <td>...</td>\n",
       "      <td>223.451310</td>\n",
       "      <td>1</td>\n",
       "      <td>1.0</td>\n",
       "      <td>0.0</td>\n",
       "      <td>0.0</td>\n",
       "      <td>0.0</td>\n",
       "      <td>0.0</td>\n",
       "      <td>0.0</td>\n",
       "      <td>1.0</td>\n",
       "      <td>0.0</td>\n",
       "    </tr>\n",
       "    <tr>\n",
       "      <th>3</th>\n",
       "      <td>23</td>\n",
       "      <td>1824.843333</td>\n",
       "      <td>3</td>\n",
       "      <td>4</td>\n",
       "      <td>3</td>\n",
       "      <td>4</td>\n",
       "      <td>6</td>\n",
       "      <td>6</td>\n",
       "      <td>11.270000</td>\n",
       "      <td>4</td>\n",
       "      <td>...</td>\n",
       "      <td>341.489231</td>\n",
       "      <td>1</td>\n",
       "      <td>1.0</td>\n",
       "      <td>0.0</td>\n",
       "      <td>1.0</td>\n",
       "      <td>0.0</td>\n",
       "      <td>0.0</td>\n",
       "      <td>0.0</td>\n",
       "      <td>0.0</td>\n",
       "      <td>0.0</td>\n",
       "    </tr>\n",
       "    <tr>\n",
       "      <th>4</th>\n",
       "      <td>23</td>\n",
       "      <td>1824.843333</td>\n",
       "      <td>3</td>\n",
       "      <td>4</td>\n",
       "      <td>3</td>\n",
       "      <td>4</td>\n",
       "      <td>8</td>\n",
       "      <td>4</td>\n",
       "      <td>9.270000</td>\n",
       "      <td>4</td>\n",
       "      <td>...</td>\n",
       "      <td>340.479212</td>\n",
       "      <td>1</td>\n",
       "      <td>1.0</td>\n",
       "      <td>0.0</td>\n",
       "      <td>1.0</td>\n",
       "      <td>0.0</td>\n",
       "      <td>0.0</td>\n",
       "      <td>0.0</td>\n",
       "      <td>0.0</td>\n",
       "      <td>0.0</td>\n",
       "    </tr>\n",
       "    <tr>\n",
       "      <th>...</th>\n",
       "      <td>...</td>\n",
       "      <td>...</td>\n",
       "      <td>...</td>\n",
       "      <td>...</td>\n",
       "      <td>...</td>\n",
       "      <td>...</td>\n",
       "      <td>...</td>\n",
       "      <td>...</td>\n",
       "      <td>...</td>\n",
       "      <td>...</td>\n",
       "      <td>...</td>\n",
       "      <td>...</td>\n",
       "      <td>...</td>\n",
       "      <td>...</td>\n",
       "      <td>...</td>\n",
       "      <td>...</td>\n",
       "      <td>...</td>\n",
       "      <td>...</td>\n",
       "      <td>...</td>\n",
       "      <td>...</td>\n",
       "      <td>...</td>\n",
       "    </tr>\n",
       "    <tr>\n",
       "      <th>99994</th>\n",
       "      <td>25</td>\n",
       "      <td>3359.415833</td>\n",
       "      <td>4</td>\n",
       "      <td>6</td>\n",
       "      <td>7</td>\n",
       "      <td>2</td>\n",
       "      <td>23</td>\n",
       "      <td>7</td>\n",
       "      <td>11.500000</td>\n",
       "      <td>3</td>\n",
       "      <td>...</td>\n",
       "      <td>395.684889</td>\n",
       "      <td>1</td>\n",
       "      <td>1.0</td>\n",
       "      <td>0.0</td>\n",
       "      <td>0.0</td>\n",
       "      <td>0.0</td>\n",
       "      <td>0.0</td>\n",
       "      <td>0.0</td>\n",
       "      <td>0.0</td>\n",
       "      <td>1.0</td>\n",
       "    </tr>\n",
       "    <tr>\n",
       "      <th>99995</th>\n",
       "      <td>25</td>\n",
       "      <td>3359.415833</td>\n",
       "      <td>4</td>\n",
       "      <td>6</td>\n",
       "      <td>7</td>\n",
       "      <td>2</td>\n",
       "      <td>18</td>\n",
       "      <td>7</td>\n",
       "      <td>11.500000</td>\n",
       "      <td>3</td>\n",
       "      <td>...</td>\n",
       "      <td>395.684889</td>\n",
       "      <td>1</td>\n",
       "      <td>1.0</td>\n",
       "      <td>0.0</td>\n",
       "      <td>1.0</td>\n",
       "      <td>0.0</td>\n",
       "      <td>0.0</td>\n",
       "      <td>0.0</td>\n",
       "      <td>0.0</td>\n",
       "      <td>1.0</td>\n",
       "    </tr>\n",
       "    <tr>\n",
       "      <th>99996</th>\n",
       "      <td>25</td>\n",
       "      <td>3359.415833</td>\n",
       "      <td>4</td>\n",
       "      <td>6</td>\n",
       "      <td>7</td>\n",
       "      <td>2</td>\n",
       "      <td>27</td>\n",
       "      <td>6</td>\n",
       "      <td>11.500000</td>\n",
       "      <td>3</td>\n",
       "      <td>...</td>\n",
       "      <td>395.684889</td>\n",
       "      <td>1</td>\n",
       "      <td>1.0</td>\n",
       "      <td>0.0</td>\n",
       "      <td>0.0</td>\n",
       "      <td>0.0</td>\n",
       "      <td>0.0</td>\n",
       "      <td>0.0</td>\n",
       "      <td>0.0</td>\n",
       "      <td>1.0</td>\n",
       "    </tr>\n",
       "    <tr>\n",
       "      <th>99997</th>\n",
       "      <td>25</td>\n",
       "      <td>3359.415833</td>\n",
       "      <td>4</td>\n",
       "      <td>6</td>\n",
       "      <td>7</td>\n",
       "      <td>2</td>\n",
       "      <td>20</td>\n",
       "      <td>6</td>\n",
       "      <td>11.500000</td>\n",
       "      <td>3</td>\n",
       "      <td>...</td>\n",
       "      <td>395.684889</td>\n",
       "      <td>1</td>\n",
       "      <td>1.0</td>\n",
       "      <td>0.0</td>\n",
       "      <td>0.0</td>\n",
       "      <td>0.0</td>\n",
       "      <td>1.0</td>\n",
       "      <td>0.0</td>\n",
       "      <td>0.0</td>\n",
       "      <td>2.0</td>\n",
       "    </tr>\n",
       "    <tr>\n",
       "      <th>99998</th>\n",
       "      <td>25</td>\n",
       "      <td>3359.415833</td>\n",
       "      <td>4</td>\n",
       "      <td>6</td>\n",
       "      <td>7</td>\n",
       "      <td>2</td>\n",
       "      <td>18</td>\n",
       "      <td>6</td>\n",
       "      <td>11.500000</td>\n",
       "      <td>3</td>\n",
       "      <td>...</td>\n",
       "      <td>395.684889</td>\n",
       "      <td>1</td>\n",
       "      <td>1.0</td>\n",
       "      <td>0.0</td>\n",
       "      <td>0.0</td>\n",
       "      <td>0.0</td>\n",
       "      <td>0.0</td>\n",
       "      <td>0.0</td>\n",
       "      <td>0.0</td>\n",
       "      <td>1.0</td>\n",
       "    </tr>\n",
       "  </tbody>\n",
       "</table>\n",
       "<p>99999 rows × 25 columns</p>\n",
       "</div>"
      ],
      "text/plain": [
       "       23  1824.8433333333328  3  4  3.1  4.1  3.2  7      11.27  4.2  ...  \\\n",
       "0      23         1824.843333  3  4    3    4    0  6  11.270000    4  ...   \n",
       "1      23         1824.843333  3  4    3    4    3  7  10.906364    4  ...   \n",
       "2      23         1824.843333  3  4    3    4    5  4   6.270000    4  ...   \n",
       "3      23         1824.843333  3  4    3    4    6  6  11.270000    4  ...   \n",
       "4      23         1824.843333  3  4    3    4    8  4   9.270000    4  ...   \n",
       "...    ..                 ... .. ..  ...  ...  ... ..        ...  ...  ...   \n",
       "99994  25         3359.415833  4  6    7    2   23  7  11.500000    3  ...   \n",
       "99995  25         3359.415833  4  6    7    2   18  7  11.500000    3  ...   \n",
       "99996  25         3359.415833  4  6    7    2   27  6  11.500000    3  ...   \n",
       "99997  25         3359.415833  4  6    7    2   20  6  11.500000    3  ...   \n",
       "99998  25         3359.415833  4  6    7    2   18  6  11.500000    3  ...   \n",
       "\n",
       "       312.49408867943663  1  1.0  0.0  0.0.1  1.0.1  0.0.2  0.0.3  0.0.4  \\\n",
       "0              284.629162  1  1.0  0.0    0.0    0.0    1.0    0.0    0.0   \n",
       "1              331.209863  1  1.0  0.0    0.0    0.0    0.0    1.0    0.0   \n",
       "2              223.451310  1  1.0  0.0    0.0    0.0    0.0    0.0    1.0   \n",
       "3              341.489231  1  1.0  0.0    1.0    0.0    0.0    0.0    0.0   \n",
       "4              340.479212  1  1.0  0.0    1.0    0.0    0.0    0.0    0.0   \n",
       "...                   ... ..  ...  ...    ...    ...    ...    ...    ...   \n",
       "99994          395.684889  1  1.0  0.0    0.0    0.0    0.0    0.0    0.0   \n",
       "99995          395.684889  1  1.0  0.0    1.0    0.0    0.0    0.0    0.0   \n",
       "99996          395.684889  1  1.0  0.0    0.0    0.0    0.0    0.0    0.0   \n",
       "99997          395.684889  1  1.0  0.0    0.0    0.0    1.0    0.0    0.0   \n",
       "99998          395.684889  1  1.0  0.0    0.0    0.0    0.0    0.0    0.0   \n",
       "\n",
       "       0.0.5  \n",
       "0        0.0  \n",
       "1        0.0  \n",
       "2        0.0  \n",
       "3        0.0  \n",
       "4        0.0  \n",
       "...      ...  \n",
       "99994    1.0  \n",
       "99995    1.0  \n",
       "99996    1.0  \n",
       "99997    2.0  \n",
       "99998    1.0  \n",
       "\n",
       "[99999 rows x 25 columns]"
      ]
     },
     "execution_count": 4,
     "metadata": {},
     "output_type": "execute_result"
    }
   ],
   "source": [
    "train_df"
   ]
  },
  {
   "cell_type": "code",
   "execution_count": 5,
   "id": "fc8c3e1f",
   "metadata": {},
   "outputs": [],
   "source": [
    "train_data = train_df.values\n",
    "test_x = test_df.values\n",
    "\n",
    "\n",
    "\n",
    "train_x = train_data[: , :-1]\n",
    "train_y = train_data[:, -1]"
   ]
  },
  {
   "cell_type": "code",
   "execution_count": 6,
   "id": "0bc5bfc4",
   "metadata": {},
   "outputs": [
    {
     "name": "stdout",
     "output_type": "stream",
     "text": [
      "[[2.30000000e+01 1.82484333e+03 3.00000000e+00 ... 1.00000000e+00\n",
      "  0.00000000e+00 0.00000000e+00]\n",
      " [2.30000000e+01 1.82484333e+03 3.00000000e+00 ... 0.00000000e+00\n",
      "  1.00000000e+00 0.00000000e+00]\n",
      " [2.30000000e+01 1.82484333e+03 3.00000000e+00 ... 0.00000000e+00\n",
      "  0.00000000e+00 1.00000000e+00]\n",
      " ...\n",
      " [2.50000000e+01 3.35941583e+03 4.00000000e+00 ... 0.00000000e+00\n",
      "  0.00000000e+00 0.00000000e+00]\n",
      " [2.50000000e+01 3.35941583e+03 4.00000000e+00 ... 1.00000000e+00\n",
      "  0.00000000e+00 0.00000000e+00]\n",
      " [2.50000000e+01 3.35941583e+03 4.00000000e+00 ... 0.00000000e+00\n",
      "  0.00000000e+00 0.00000000e+00]] \n",
      "\n",
      " [0. 0. 0. ... 1. 2. 1.] \n",
      "\n",
      " [[2.30000000e+01 1.82484333e+03 3.00000000e+00 ... 0.00000000e+00\n",
      "  0.00000000e+00 0.00000000e+00]\n",
      " [2.30000000e+01 1.82484333e+03 3.00000000e+00 ... 0.00000000e+00\n",
      "  1.00000000e+00 0.00000000e+00]\n",
      " [2.30000000e+01 1.82484333e+03 3.00000000e+00 ... 0.00000000e+00\n",
      "  0.00000000e+00 0.00000000e+00]\n",
      " ...\n",
      " [2.50000000e+01 3.35941583e+03 4.00000000e+00 ... 1.00000000e+00\n",
      "  0.00000000e+00 0.00000000e+00]\n",
      " [2.50000000e+01 3.35941583e+03 4.00000000e+00 ... 0.00000000e+00\n",
      "  0.00000000e+00 0.00000000e+00]\n",
      " [2.50000000e+01 3.35941583e+03 4.00000000e+00 ... 0.00000000e+00\n",
      "  1.00000000e+00 0.00000000e+00]]\n"
     ]
    }
   ],
   "source": [
    "print(train_x, '\\n\\n', train_y, '\\n\\n', test_x)"
   ]
  },
  {
   "cell_type": "markdown",
   "id": "7efcb422",
   "metadata": {},
   "source": [
    "## Normalização dos atributos"
   ]
  },
  {
   "cell_type": "markdown",
   "id": "177ea36e",
   "metadata": {},
   "source": [
    "Vamos então, primeiramente, normalizar os dados que vamos analsar. A ideia inicial é de fazer com no maximo 4 atributos de maneira didatica e depois aplicar para os demais"
   ]
  },
  {
   "cell_type": "code",
   "execution_count": 7,
   "id": "ac7e783d",
   "metadata": {},
   "outputs": [],
   "source": [
    "from sklearn.model_selection import train_test_split \n",
    "\n",
    "x_train, x_test, y_train, y_test = train_test_split(\n",
    "                                       train_x, \n",
    "                                       train_y, \n",
    "                                       test_size=0.1)"
   ]
  },
  {
   "cell_type": "code",
   "execution_count": 8,
   "id": "4a52183d",
   "metadata": {},
   "outputs": [],
   "source": [
    "from sklearn.preprocessing import MinMaxScaler\n",
    "\n",
    "scaler = MinMaxScaler()\n",
    "\n",
    "x_train = scaler.fit_transform(x_train)\n",
    "\n",
    "x_test = scaler.fit_transform(x_test)"
   ]
  },
  {
   "cell_type": "markdown",
   "id": "3388e468",
   "metadata": {},
   "source": [
    "## Criando dicionarios\n",
    "Criaremos dicionarios para guardarmos valores de acuracia, precisão e recall para fazermos uma tabela que demonstra todos os valores de saida para cada classificador utilizado\n",
    "\n",
    "Fonte da ideia: [Credit Score Classification By Vishal Sai Gadge](https://www.kaggle.com/code/gadigevishalsai/credit-score-classification-eda-classification)"
   ]
  },
  {
   "cell_type": "code",
   "execution_count": 9,
   "id": "4e01a1a8",
   "metadata": {},
   "outputs": [],
   "source": [
    "model_accuracy = OrderedDict()\n",
    "model_precision = OrderedDict()\n",
    "model_recall = OrderedDict()"
   ]
  },
  {
   "cell_type": "markdown",
   "id": "4f32c969",
   "metadata": {},
   "source": [
    "## Classificador KNN"
   ]
  },
  {
   "cell_type": "markdown",
   "id": "dea2e2b3",
   "metadata": {},
   "source": [
    "Usaremos tanto as funções de normalização: \n",
    "\n",
    "StandardScaler (coloca todos os atributos em um intervalo ((x - u) / s), sendo x o valor do atributo, u o valor da media dos valores e s o desvio padrão das amostras) \n",
    "\n",
    "\n",
    "MinMaxScaler (coloca todos os atributos em um intervalo de 0's e 1's)"
   ]
  },
  {
   "cell_type": "code",
   "execution_count": 10,
   "id": "91973eba",
   "metadata": {},
   "outputs": [],
   "source": [
    "#resetando os valores para os valores de entrada\n",
    "x_train, x_test, y_train, y_test = train_test_split(\n",
    "                                       train_x, \n",
    "                                       train_y, \n",
    "                                       test_size=0.3,\n",
    "                                       random_state = 27, \n",
    "                                       shuffle = True)\n",
    "\n",
    "\n",
    "# Normalizando com o MinMax\n",
    "scaler = MinMaxScaler()\n",
    "\n",
    "x_train = scaler.fit_transform(x_train)\n",
    "\n",
    "x_test = scaler.fit_transform(x_test)"
   ]
  },
  {
   "cell_type": "code",
   "execution_count": 11,
   "id": "a9bbfe21",
   "metadata": {},
   "outputs": [
    {
     "name": "stdout",
     "output_type": "stream",
     "text": [
      "              precision    recall  f1-score   support\n",
      "\n",
      "         0.0       0.60      0.59      0.59      5254\n",
      "         1.0       0.67      0.66      0.67      8743\n",
      "         2.0       0.73      0.73      0.73     16003\n",
      "\n",
      "    accuracy                           0.69     30000\n",
      "   macro avg       0.66      0.66      0.66     30000\n",
      "weighted avg       0.69      0.69      0.69     30000\n",
      "\n"
     ]
    }
   ],
   "source": [
    "# Aplicando para 1 vizinho\n",
    "neigh = KNeighborsClassifier(n_neighbors = 1)\n",
    "neigh.fit(x_train, y_train)\n",
    "\n",
    "y_pred = neigh.predict(x_test)\n",
    "\n",
    "print(classification_report(y_test, y_pred))"
   ]
  },
  {
   "cell_type": "code",
   "execution_count": 12,
   "id": "d37e3484",
   "metadata": {},
   "outputs": [
    {
     "name": "stdout",
     "output_type": "stream",
     "text": [
      "[[ 3111   329  1814]\n",
      " [  361  5786  2596]\n",
      " [ 1741  2528 11734]]\n",
      "The accuracy of this model is 68.77 %.\n",
      "The precision of this model is 68.73 %.\n",
      "The recall of this model is 68.77 %.\n"
     ]
    }
   ],
   "source": [
    "### Making the confusion matrix\n",
    "\n",
    "cm = confusion_matrix(y_test, y_pred)\n",
    "print(cm)\n",
    "\n",
    "### Printing the accuracy, precision, and recall of the model\n",
    "\n",
    "nn1_accuracy = round(100 * accuracy_score(y_test, y_pred), 2)\n",
    "model_accuracy['1 - Nearest Neighbors'] = nn1_accuracy\n",
    "\n",
    "nn1_precision = round(100 * precision_score(y_test, y_pred, average = 'weighted'), 2)\n",
    "model_precision['1 - Nearest Neighbors'] = nn1_precision\n",
    "\n",
    "nn1_recall = round(100 * recall_score(y_test, y_pred, average = 'weighted'), 2)\n",
    "model_recall['1 - Nearest Neighbors'] = nn1_recall\n",
    "\n",
    "print('The accuracy of this model is {} %.'.format(nn1_accuracy))\n",
    "print('The precision of this model is {} %.'.format(nn1_precision))\n",
    "print('The recall of this model is {} %.'.format(nn1_recall))"
   ]
  },
  {
   "cell_type": "code",
   "execution_count": 13,
   "id": "04639ed8",
   "metadata": {},
   "outputs": [
    {
     "name": "stdout",
     "output_type": "stream",
     "text": [
      "              precision    recall  f1-score   support\n",
      "\n",
      "         0.0       0.54      0.62      0.58      5254\n",
      "         1.0       0.69      0.65      0.67      8743\n",
      "         2.0       0.74      0.73      0.73     16003\n",
      "\n",
      "    accuracy                           0.69     30000\n",
      "   macro avg       0.66      0.66      0.66     30000\n",
      "weighted avg       0.69      0.69      0.69     30000\n",
      "\n"
     ]
    }
   ],
   "source": [
    "# Aplicando para 3 vizinhos\n",
    "\n",
    "neigh = KNeighborsClassifier(n_neighbors = 3)\n",
    "neigh.fit(x_train, y_train)\n",
    "\n",
    "y_pred = neigh.predict(x_test)\n",
    "\n",
    "print(classification_report(y_test, y_pred))"
   ]
  },
  {
   "cell_type": "code",
   "execution_count": 14,
   "id": "e8e21514",
   "metadata": {},
   "outputs": [
    {
     "name": "stdout",
     "output_type": "stream",
     "text": [
      "[[ 3249   226  1779]\n",
      " [  733  5641  2369]\n",
      " [ 2038  2266 11699]]\n",
      "The accuracy of this model is 68.63 %.\n",
      "The precision of this model is 69.05 %.\n",
      "The recall of this model is 68.63 %.\n"
     ]
    }
   ],
   "source": [
    "### Making the confusion matrix\n",
    "\n",
    "cm = confusion_matrix(y_test, y_pred)\n",
    "print(cm)\n",
    "\n",
    "### Printing the accuracy, precision, and recall of the model\n",
    "\n",
    "nn3_accuracy = round(100 * accuracy_score(y_test, y_pred), 2)\n",
    "model_accuracy['3 - Nearest Neighbors'] = nn3_accuracy\n",
    "\n",
    "nn3_precision = round(100 * precision_score(y_test, y_pred, average = 'weighted'), 2)\n",
    "model_precision['3 - Nearest Neighbors'] = nn3_precision\n",
    "\n",
    "nn3_recall = round(100 * recall_score(y_test, y_pred, average = 'weighted'), 2)\n",
    "model_recall['3 - Nearest Neighbors'] = nn3_recall\n",
    "\n",
    "print('The accuracy of this model is {} %.'.format(nn3_accuracy))\n",
    "print('The precision of this model is {} %.'.format(nn3_precision))\n",
    "print('The recall of this model is {} %.'.format(nn3_recall))"
   ]
  },
  {
   "cell_type": "code",
   "execution_count": 15,
   "id": "6eccfbfc",
   "metadata": {},
   "outputs": [
    {
     "name": "stdout",
     "output_type": "stream",
     "text": [
      "              precision    recall  f1-score   support\n",
      "\n",
      "         0.0       0.56      0.63      0.59      5254\n",
      "         1.0       0.68      0.65      0.67      8743\n",
      "         2.0       0.74      0.73      0.74     16003\n",
      "\n",
      "    accuracy                           0.69     30000\n",
      "   macro avg       0.66      0.67      0.66     30000\n",
      "weighted avg       0.69      0.69      0.69     30000\n",
      "\n"
     ]
    }
   ],
   "source": [
    "# Aplicando para 5 vizinhos\n",
    "\n",
    "neigh = KNeighborsClassifier(n_neighbors = 5)\n",
    "neigh.fit(x_train, y_train)\n",
    "\n",
    "y_pred = neigh.predict(x_test)\n",
    "\n",
    "print(classification_report(y_test, y_pred))"
   ]
  },
  {
   "cell_type": "code",
   "execution_count": 16,
   "id": "a22c1025",
   "metadata": {},
   "outputs": [
    {
     "name": "stdout",
     "output_type": "stream",
     "text": [
      "[[ 3286   286  1682]\n",
      " [  708  5694  2341]\n",
      " [ 1922  2360 11721]]\n",
      "The accuracy of this model is 69.0 %.\n",
      "The precision of this model is 69.34 %.\n",
      "The recall of this model is 69.0 %.\n"
     ]
    }
   ],
   "source": [
    "### Making the confusion matrix\n",
    "\n",
    "cm = confusion_matrix(y_test, y_pred)\n",
    "print(cm)\n",
    "\n",
    "### Printing the accuracy, precision, and recall of the model\n",
    "\n",
    "nn5_accuracy = round(100 * accuracy_score(y_test, y_pred), 2)\n",
    "model_accuracy['5 - Nearest Neighbors'] = nn5_accuracy\n",
    "\n",
    "nn5_precision = round(100 * precision_score(y_test, y_pred, average = 'weighted'), 2)\n",
    "model_precision['5 - Nearest Neighbors'] = nn5_precision\n",
    "\n",
    "nn5_recall = round(100 * recall_score(y_test, y_pred, average = 'weighted'), 2)\n",
    "model_recall['5 - Nearest Neighbors'] = nn5_recall\n",
    "\n",
    "print('The accuracy of this model is {} %.'.format(nn5_accuracy))\n",
    "print('The precision of this model is {} %.'.format(nn5_precision))\n",
    "print('The recall of this model is {} %.'.format(nn5_recall))"
   ]
  },
  {
   "cell_type": "code",
   "execution_count": 17,
   "id": "c873a41a",
   "metadata": {},
   "outputs": [
    {
     "name": "stdout",
     "output_type": "stream",
     "text": [
      "              precision    recall  f1-score   support\n",
      "\n",
      "         0.0       0.56      0.63      0.59      5254\n",
      "         1.0       0.69      0.65      0.67      8743\n",
      "         2.0       0.74      0.74      0.74     16003\n",
      "\n",
      "    accuracy                           0.69     30000\n",
      "   macro avg       0.67      0.67      0.67     30000\n",
      "weighted avg       0.70      0.69      0.69     30000\n",
      "\n"
     ]
    }
   ],
   "source": [
    "# Aplicando para 7 vizinhos\n",
    "\n",
    "neigh = KNeighborsClassifier(n_neighbors = 7)\n",
    "neigh.fit(x_train, y_train)\n",
    "\n",
    "y_pred = neigh.predict(x_test)\n",
    "\n",
    "print(classification_report(y_test, y_pred))"
   ]
  },
  {
   "cell_type": "code",
   "execution_count": 18,
   "id": "9d09fa8a",
   "metadata": {},
   "outputs": [
    {
     "name": "stdout",
     "output_type": "stream",
     "text": [
      "[[ 3300   231  1723]\n",
      " [  700  5647  2396]\n",
      " [ 1880  2269 11854]]\n",
      "The accuracy of this model is 69.34 %.\n",
      "The precision of this model is 69.62 %.\n",
      "The recall of this model is 69.34 %.\n"
     ]
    }
   ],
   "source": [
    "### Making the confusion matrix\n",
    "\n",
    "cm = confusion_matrix(y_test, y_pred)\n",
    "print(cm)\n",
    "\n",
    "### Printing the accuracy, precision, and recall of the model\n",
    "\n",
    "nn7_accuracy = round(100 * accuracy_score(y_test, y_pred), 2)\n",
    "model_accuracy['7 - Nearest Neighbors'] = nn7_accuracy\n",
    "\n",
    "nn7_precision = round(100 * precision_score(y_test, y_pred, average = 'weighted'), 2)\n",
    "model_precision['7 - Nearest Neighbors'] = nn7_precision\n",
    "\n",
    "nn7_recall = round(100 * recall_score(y_test, y_pred, average = 'weighted'), 2)\n",
    "model_recall['7 - Nearest Neighbors'] = nn7_recall\n",
    "\n",
    "print('The accuracy of this model is {} %.'.format(nn7_accuracy))\n",
    "print('The precision of this model is {} %.'.format(nn7_precision))\n",
    "print('The recall of this model is {} %.'.format(nn7_recall))"
   ]
  },
  {
   "cell_type": "code",
   "execution_count": 19,
   "id": "a21907c6",
   "metadata": {},
   "outputs": [
    {
     "name": "stdout",
     "output_type": "stream",
     "text": [
      "              precision    recall  f1-score   support\n",
      "\n",
      "         0.0       0.55      0.64      0.59      5254\n",
      "         1.0       0.70      0.64      0.67      8743\n",
      "         2.0       0.74      0.74      0.74     16003\n",
      "\n",
      "    accuracy                           0.69     30000\n",
      "   macro avg       0.67      0.67      0.67     30000\n",
      "weighted avg       0.70      0.69      0.69     30000\n",
      "\n"
     ]
    }
   ],
   "source": [
    "# Aplicando para 9 vizinhos\n",
    "\n",
    "neigh = KNeighborsClassifier(n_neighbors = 9)\n",
    "neigh.fit(x_train, y_train)\n",
    "\n",
    "y_pred = neigh.predict(x_test)\n",
    "\n",
    "print(classification_report(y_test, y_pred))"
   ]
  },
  {
   "cell_type": "code",
   "execution_count": 20,
   "id": "06c37ee8",
   "metadata": {},
   "outputs": [
    {
     "name": "stdout",
     "output_type": "stream",
     "text": [
      "[[ 3355   169  1730]\n",
      " [  753  5566  2424]\n",
      " [ 1959  2179 11865]]\n",
      "The accuracy of this model is 69.29 %.\n",
      "The precision of this model is 69.69 %.\n",
      "The recall of this model is 69.29 %.\n"
     ]
    }
   ],
   "source": [
    "### Making the confusion matrix\n",
    "\n",
    "cm = confusion_matrix(y_test, y_pred)\n",
    "print(cm)\n",
    "\n",
    "### Printing the accuracy, precision, and recall of the model\n",
    "\n",
    "nn9_accuracy = round(100 * accuracy_score(y_test, y_pred), 2)\n",
    "model_accuracy['9 - Nearest Neighbors'] = nn9_accuracy\n",
    "\n",
    "nn9_precision = round(100 * precision_score(y_test, y_pred, average = 'weighted'), 2)\n",
    "model_precision['9 - Nearest Neighbors'] = nn9_precision\n",
    "\n",
    "nn9_recall = round(100 * recall_score(y_test, y_pred, average = 'weighted'), 2)\n",
    "model_recall['9 - Nearest Neighbors'] = nn9_recall\n",
    "\n",
    "print('The accuracy of this model is {} %.'.format(nn9_accuracy))\n",
    "print('The precision of this model is {} %.'.format(nn9_precision))\n",
    "print('The recall of this model is {} %.'.format(nn9_recall))"
   ]
  },
  {
   "cell_type": "markdown",
   "id": "75b71197",
   "metadata": {},
   "source": [
    "Plotando em grafico:"
   ]
  },
  {
   "cell_type": "code",
   "execution_count": 21,
   "id": "b791fa8d",
   "metadata": {},
   "outputs": [
    {
     "data": {
      "image/png": "[encoded data removed]",
      "text/plain": [
       "<Figure size 720x720 with 1 Axes>"
      ]
     },
     "metadata": {
      "needs_background": "light"
     },
     "output_type": "display_data"
    }
   ],
   "source": [
    "labels = ['1NN', '3NN', '5NN', '7NN', '9NN']\n",
    "values = [nn1_precision, nn3_precision, nn5_precision, nn7_precision, nn9_precision]\n",
    "\n",
    "plt.figure(figsize = [10, 10])\n",
    "plt.title('Precision of all the nearest neighbor models')\n",
    "plt.xlabel('Model')\n",
    "plt.ylabel('Precision')\n",
    "plt.plot(labels, values, '*-')\n",
    "plt.show()"
   ]
  },
  {
   "cell_type": "markdown",
   "id": "7d5e1903",
   "metadata": {},
   "source": [
    "## RandomForestClassifier"
   ]
  },
  {
   "cell_type": "markdown",
   "id": "f126871c",
   "metadata": {},
   "source": [
    "Utilizaremos o RandomForestClassifier como classificador por conta da sua dinamica de aprofundamento, dividindo-se em varios subproblemas do dataset e classifica-os com base nisso"
   ]
  },
  {
   "cell_type": "markdown",
   "id": "5796802f",
   "metadata": {},
   "source": [
    "Faremos com que tenha diversos valores de arvores para termos uma noção melhor de como o codigo reage em diferentes numeros de avores de decisão\n",
    "\n",
    "Sendo esses valores (10, 50, 75, 100)"
   ]
  },
  {
   "cell_type": "markdown",
   "id": "dd520180",
   "metadata": {},
   "source": [
    "Utilizaremos a normalização standard para os atributos, por conta de que o RandomForest aceita valores em diversas escalas, e em testes anteriores vimos que o MinMax como normalizador para RandomForest acaba perdendo muita sua precisão e recall"
   ]
  },
  {
   "cell_type": "code",
   "execution_count": 22,
   "id": "ecb81c02",
   "metadata": {},
   "outputs": [],
   "source": [
    "#resetando os valores para os valores de entrada\n",
    "x_train, x_test, y_train, y_test = train_test_split(\n",
    "                                       train_x, \n",
    "                                       train_y, \n",
    "                                       test_size=0.1)\n",
    "\n",
    "\n",
    "# Normalizando com o standardscaler\n",
    "sc = StandardScaler()\n",
    "\n",
    "x_train = sc.fit_transform(x_train)\n",
    "x_test = sc.transform(x_test)"
   ]
  },
  {
   "cell_type": "markdown",
   "id": "1bf5a1e3",
   "metadata": {},
   "source": [
    "Após a normalização dos dados, fazemos a classificação com o randomforest de modo default para vermos seu comportamento"
   ]
  },
  {
   "cell_type": "code",
   "execution_count": 23,
   "id": "a8b5d837",
   "metadata": {},
   "outputs": [
    {
     "name": "stdout",
     "output_type": "stream",
     "text": [
      "              precision    recall  f1-score   support\n",
      "\n",
      "         0.0       0.74      0.76      0.75      1811\n",
      "         1.0       0.76      0.82      0.79      2817\n",
      "         2.0       0.83      0.79      0.81      5372\n",
      "\n",
      "    accuracy                           0.79     10000\n",
      "   macro avg       0.78      0.79      0.78     10000\n",
      "weighted avg       0.79      0.79      0.79     10000\n",
      "\n"
     ]
    }
   ],
   "source": [
    "rfc = RandomForestClassifier(n_estimators = 10, criterion = 'gini', random_state = 27)\n",
    "\n",
    "rfc.fit(x_train, y_train)\n",
    "\n",
    "y_pred = rfc.predict(x_test)\n",
    "\n",
    "print(classification_report(y_test, y_pred))"
   ]
  },
  {
   "cell_type": "code",
   "execution_count": 24,
   "id": "6b3cdaa9",
   "metadata": {},
   "outputs": [
    {
     "name": "stdout",
     "output_type": "stream",
     "text": [
      "[[1379   17  415]\n",
      " [  32 2312  473]\n",
      " [ 450  695 4227]]\n",
      "The accuracy of this model is 79.18 %.\n",
      "The precision of this model is 79.18 %.\n",
      "The recall of this model is 79.18 %.\n"
     ]
    }
   ],
   "source": [
    "### Making the confusion matrix\n",
    "\n",
    "cm = confusion_matrix(y_test, y_pred)\n",
    "print(cm)\n",
    "\n",
    "### Printing the accuracy, precision, and recall of the model\n",
    "\n",
    "rf10_accuracy = round(100 * accuracy_score(y_test, y_pred), 2)\n",
    "model_accuracy['10 - Random Forest'] = rf10_accuracy\n",
    "\n",
    "rf10_precision = round(100 * precision_score(y_test, y_pred, average = 'weighted'), 2)\n",
    "model_precision['10 - Random Forest'] = rf10_precision\n",
    "\n",
    "rf10_recall = round(100 * recall_score(y_test, y_pred, average = 'weighted'), 2)\n",
    "model_recall['10 - Random Forest'] = rf10_recall\n",
    "\n",
    "print('The accuracy of this model is {} %.'.format(rf10_recall))\n",
    "print('The precision of this model is {} %.'.format(rf10_recall))\n",
    "print('The recall of this model is {} %.'.format(rf10_recall))"
   ]
  },
  {
   "cell_type": "code",
   "execution_count": 25,
   "id": "25ea3016",
   "metadata": {},
   "outputs": [
    {
     "name": "stdout",
     "output_type": "stream",
     "text": [
      "              precision    recall  f1-score   support\n",
      "\n",
      "         0.0       0.77      0.76      0.77      1811\n",
      "         1.0       0.78      0.83      0.81      2817\n",
      "         2.0       0.83      0.81      0.82      5372\n",
      "\n",
      "    accuracy                           0.81     10000\n",
      "   macro avg       0.80      0.80      0.80     10000\n",
      "weighted avg       0.81      0.81      0.81     10000\n",
      "\n"
     ]
    }
   ],
   "source": [
    "# aplicando 50 arvores\n",
    "rfc = RandomForestClassifier(n_estimators = 50, criterion = 'gini', random_state = 27)\n",
    "\n",
    "rfc.fit(x_train, y_train)\n",
    "\n",
    "y_pred = rfc.predict(x_test)\n",
    "\n",
    "print(classification_report(y_test, y_pred))"
   ]
  },
  {
   "cell_type": "code",
   "execution_count": 26,
   "id": "cf077653",
   "metadata": {},
   "outputs": [
    {
     "name": "stdout",
     "output_type": "stream",
     "text": [
      "[[1377   11  423]\n",
      " [  17 2347  453]\n",
      " [ 386  635 4351]]\n",
      "The accuracy of this model is 80.75 %.\n",
      "The precision of this model is 80.75 %.\n",
      "The recall of this model is 80.75 %.\n"
     ]
    }
   ],
   "source": [
    "### Making the confusion matrix\n",
    "\n",
    "cm = confusion_matrix(y_test, y_pred)\n",
    "print(cm)\n",
    "\n",
    "### Printing the accuracy, precision, and recall of the model\n",
    "\n",
    "rf50_accuracy = round(100 * accuracy_score(y_test, y_pred), 2)\n",
    "model_accuracy['50 - Random Forest'] = rf50_accuracy\n",
    "\n",
    "rf50_precision = round(100 * precision_score(y_test, y_pred, average = 'weighted'), 2)\n",
    "model_precision['50 - Random Forest'] = rf50_precision\n",
    "\n",
    "rf50_recall = round(100 * recall_score(y_test, y_pred, average = 'weighted'), 2)\n",
    "model_recall['50 - Random Forest'] = rf50_recall\n",
    "\n",
    "print('The accuracy of this model is {} %.'.format(rf50_recall))\n",
    "print('The precision of this model is {} %.'.format(rf50_recall))\n",
    "print('The recall of this model is {} %.'.format(rf50_recall))"
   ]
  },
  {
   "cell_type": "code",
   "execution_count": 27,
   "id": "1578516a",
   "metadata": {},
   "outputs": [
    {
     "name": "stdout",
     "output_type": "stream",
     "text": [
      "              precision    recall  f1-score   support\n",
      "\n",
      "         0.0       0.78      0.77      0.77      1811\n",
      "         1.0       0.79      0.83      0.81      2817\n",
      "         2.0       0.83      0.81      0.82      5372\n",
      "\n",
      "    accuracy                           0.81     10000\n",
      "   macro avg       0.80      0.80      0.80     10000\n",
      "weighted avg       0.81      0.81      0.81     10000\n",
      "\n"
     ]
    }
   ],
   "source": [
    "# aplicando 75 arvores\n",
    "rfc = RandomForestClassifier(n_estimators = 75, criterion = 'gini', random_state = 27)\n",
    "\n",
    "rfc.fit(x_train, y_train)\n",
    "\n",
    "y_pred = rfc.predict(x_test)\n",
    "\n",
    "print(classification_report(y_test, y_pred))"
   ]
  },
  {
   "cell_type": "code",
   "execution_count": 28,
   "id": "86ab5b04",
   "metadata": {},
   "outputs": [
    {
     "name": "stdout",
     "output_type": "stream",
     "text": [
      "[[1387   11  413]\n",
      " [  17 2344  456]\n",
      " [ 381  621 4370]]\n",
      "The accuracy of this model is 81.01 %.\n",
      "The precision of this model is 81.01 %.\n",
      "The recall of this model is 81.01 %.\n"
     ]
    }
   ],
   "source": [
    "### Making the confusion matrix\n",
    "\n",
    "cm = confusion_matrix(y_test, y_pred)\n",
    "print(cm)\n",
    "\n",
    "### Printing the accuracy, precision, and recall of the model\n",
    "\n",
    "rf75_accuracy = round(100 * accuracy_score(y_test, y_pred), 2)\n",
    "model_accuracy['75 - Random Forest'] = rf75_accuracy\n",
    "\n",
    "rf75_precision = round(100 * precision_score(y_test, y_pred, average = 'weighted'), 2)\n",
    "model_precision['75 - Random Forest'] = rf75_precision\n",
    "\n",
    "rf75_recall = round(100 * recall_score(y_test, y_pred, average = 'weighted'), 2)\n",
    "model_recall['75 - Random Forest'] = rf75_recall\n",
    "\n",
    "print('The accuracy of this model is {} %.'.format(rf75_recall))\n",
    "print('The precision of this model is {} %.'.format(rf75_recall))\n",
    "print('The recall of this model is {} %.'.format(rf75_recall))"
   ]
  },
  {
   "cell_type": "code",
   "execution_count": 29,
   "id": "7f3346bc",
   "metadata": {},
   "outputs": [
    {
     "name": "stdout",
     "output_type": "stream",
     "text": [
      "              precision    recall  f1-score   support\n",
      "\n",
      "         0.0       0.77      0.77      0.77      1811\n",
      "         1.0       0.79      0.83      0.81      2817\n",
      "         2.0       0.84      0.81      0.82      5372\n",
      "\n",
      "    accuracy                           0.81     10000\n",
      "   macro avg       0.80      0.80      0.80     10000\n",
      "weighted avg       0.81      0.81      0.81     10000\n",
      "\n"
     ]
    }
   ],
   "source": [
    "# aplicando 100 arvores\n",
    "rfc = RandomForestClassifier(n_estimators = 100, criterion = 'gini', random_state = 27)\n",
    "\n",
    "rfc.fit(x_train, y_train)\n",
    "\n",
    "y_pred = rfc.predict(x_test)\n",
    "\n",
    "print(classification_report(y_test, y_pred))"
   ]
  },
  {
   "cell_type": "code",
   "execution_count": 30,
   "id": "26ca1e0e",
   "metadata": {},
   "outputs": [
    {
     "name": "stdout",
     "output_type": "stream",
     "text": [
      "[[1394   10  407]\n",
      " [  19 2344  454]\n",
      " [ 386  625 4361]]\n",
      "The accuracy of this model is 80.99 %.\n",
      "The precision of this model is 80.99 %.\n",
      "The recall of this model is 80.99 %.\n"
     ]
    }
   ],
   "source": [
    "### Making the confusion matrix\n",
    "\n",
    "cm = confusion_matrix(y_test, y_pred)\n",
    "print(cm)\n",
    "\n",
    "### Printing the accuracy, precision, and recall of the model\n",
    "\n",
    "rf100_accuracy = round(100 * accuracy_score(y_test, y_pred), 2)\n",
    "model_accuracy['100 - Random Forest'] = rf100_accuracy\n",
    "\n",
    "rf100_precision = round(100 * precision_score(y_test, y_pred, average = 'weighted'), 2)\n",
    "model_precision['100 - Random Forest'] = rf100_precision\n",
    "\n",
    "rf100_recall = round(100 * recall_score(y_test, y_pred, average = 'weighted'), 2)\n",
    "model_recall['100 - Random Forest'] = rf100_recall\n",
    "\n",
    "print('The accuracy of this model is {} %.'.format(rf100_recall))\n",
    "print('The precision of this model is {} %.'.format(rf100_recall))\n",
    "print('The recall of this model is {} %.'.format(rf100_recall))"
   ]
  },
  {
   "cell_type": "markdown",
   "id": "a5eda3d8",
   "metadata": {},
   "source": [
    "Vemos então que o RandomForest tem uma melhor precisão e um melhor recall do que o KNN para esse dataset"
   ]
  },
  {
   "cell_type": "code",
   "execution_count": 31,
   "id": "162e2575",
   "metadata": {},
   "outputs": [
    {
     "data": {
      "image/png": "[encoded data removed]",
      "text/plain": [
       "<Figure size 720x720 with 1 Axes>"
      ]
     },
     "metadata": {
      "needs_background": "light"
     },
     "output_type": "display_data"
    }
   ],
   "source": [
    "labels = ['RF10', 'RF50', 'RF75', 'RF100']\n",
    "values = [rf10_precision, rf50_precision, rf75_precision, rf100_precision]\n",
    "\n",
    "plt.figure(figsize = [10, 10])\n",
    "plt.title('precision of all the Random Trees')\n",
    "plt.xlabel('Model')\n",
    "plt.ylabel('Precision')\n",
    "plt.plot(labels, values, '*-')\n",
    "plt.show()"
   ]
  },
  {
   "cell_type": "markdown",
   "id": "c212f7a9",
   "metadata": {},
   "source": [
    "# Demonstração comparativa da saida de cada algoritmo"
   ]
  },
  {
   "cell_type": "markdown",
   "id": "33d35381",
   "metadata": {},
   "source": [
    "Como ja dito acima, esta formulação de plot utilizada aqui foi baseada no codigo [Credit Score Classification By Vishal Sai Gadge](https://www.kaggle.com/code/gadigevishalsai/credit-score-classification-eda-classification)"
   ]
  },
  {
   "cell_type": "code",
   "execution_count": 33,
   "id": "0aac1147",
   "metadata": {},
   "outputs": [
    {
     "name": "stdout",
     "output_type": "stream",
     "text": [
      "╒═════════╤════════════════════════╤══════════════════╤═══════════════════╤════════════════╕\n",
      "│   S.No. │ Classification Model   │   Model Accuracy │   Model Precision │   Model Recall │\n",
      "╞═════════╪════════════════════════╪══════════════════╪═══════════════════╪════════════════╡\n",
      "│       1 │ 1 - Nearest Neighbors  │            68.77 │             68.73 │          68.77 │\n",
      "├─────────┼────────────────────────┼──────────────────┼───────────────────┼────────────────┤\n",
      "│       2 │ 3 - Nearest Neighbors  │            68.63 │             69.05 │          68.63 │\n",
      "├─────────┼────────────────────────┼──────────────────┼───────────────────┼────────────────┤\n",
      "│       3 │ 5 - Nearest Neighbors  │            69    │             69.34 │          69    │\n",
      "├─────────┼────────────────────────┼──────────────────┼───────────────────┼────────────────┤\n",
      "│       4 │ 7 - Nearest Neighbors  │            69.34 │             69.62 │          69.34 │\n",
      "├─────────┼────────────────────────┼──────────────────┼───────────────────┼────────────────┤\n",
      "│       5 │ 9 - Nearest Neighbors  │            69.29 │             69.69 │          69.29 │\n",
      "├─────────┼────────────────────────┼──────────────────┼───────────────────┼────────────────┤\n",
      "│       6 │ 10 - Random Forest     │            79.18 │             79.35 │          79.18 │\n",
      "├─────────┼────────────────────────┼──────────────────┼───────────────────┼────────────────┤\n",
      "│       7 │ 50 - Random Forest     │            80.75 │             80.82 │          80.75 │\n",
      "├─────────┼────────────────────────┼──────────────────┼───────────────────┼────────────────┤\n",
      "│       8 │ 75 - Random Forest     │            81.01 │             81.07 │          81.01 │\n",
      "├─────────┼────────────────────────┼──────────────────┼───────────────────┼────────────────┤\n",
      "│       9 │ 100 - Random Forest    │            80.99 │             81.06 │          80.99 │\n",
      "╘═════════╧════════════════════════╧══════════════════╧═══════════════════╧════════════════╛\n"
     ]
    }
   ],
   "source": [
    "### Tabulating the results\n",
    "\n",
    "table = []\n",
    "table.append(['S.No.', 'Classification Model', 'Model Accuracy', 'Model Precision', 'Model Recall'])\n",
    "count = 1\n",
    "\n",
    "for model in model_accuracy:\n",
    "    row = [count, model, model_accuracy[model], model_precision[model], model_recall[model]]\n",
    "    table.append(row)\n",
    "    count += 1\n",
    "    \n",
    "print(tabulate(table, headers = 'firstrow', tablefmt = 'fancy_grid'))"
   ]
  },
  {
   "cell_type": "code",
   "execution_count": null,
   "id": "5ff1d0c7",
   "metadata": {},
   "outputs": [],
   "source": []
  }
 ],
 "metadata": {
  "kernelspec": {
   "display_name": "Python 3 (ipykernel)",
   "language": "python",
   "name": "python3"
  },
  "language_info": {
   "codemirror_mode": {
    "name": "ipython",
    "version": 3
   },
   "file_extension": ".py",
   "mimetype": "text/x-python",
   "name": "python",
   "nbconvert_exporter": "python",
   "pygments_lexer": "ipython3",
   "version": "3.9.12"
  }
 },
 "nbformat": 4,
 "nbformat_minor": 5
}
