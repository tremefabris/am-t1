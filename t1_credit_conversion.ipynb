{
 "cells": [
  {
   "cell_type": "markdown",
   "id": "17860d54",
   "metadata": {},
   "source": [
    "## CONVERTENDO ATRIBUTOS"
   ]
  },
  {
   "cell_type": "code",
   "execution_count": 1,
   "id": "179e31e8",
   "metadata": {},
   "outputs": [],
   "source": [
    "import pandas as pd\n",
    "import numpy as np\n",
    "import matplotlib.pyplot as plt\n",
    "import seaborn as sns"
   ]
  },
  {
   "cell_type": "code",
   "execution_count": 2,
   "id": "0f18c3f1",
   "metadata": {},
   "outputs": [],
   "source": [
    "train_path = 'data/credit-score/clean_train.csv'\n",
    "test_path  = 'data/credit-score/clean_test.csv'\n",
    "\n",
    "train_df = pd.read_csv(train_path)\n",
    "test_df  = pd.read_csv(test_path)"
   ]
  },
  {
   "cell_type": "code",
   "execution_count": 3,
   "id": "d42a0bd1",
   "metadata": {},
   "outputs": [
    {
     "data": {
      "text/plain": [
       "array([[0, 'CUS_0xd40', 23, ..., 'High_spent_Small_value_payments',\n",
       "        312.49408867943663, 'Good'],\n",
       "       [1, 'CUS_0xd40', 23, ..., 'Low_spent_Large_value_payments',\n",
       "        284.62916249607184, 'Good'],\n",
       "       [2, 'CUS_0xd40', 23, ..., 'Low_spent_Medium_value_payments',\n",
       "        331.2098628537912, 'Good'],\n",
       "       ...,\n",
       "       [99997, 'CUS_0x942c', 25, ..., 'High_spent_Large_value_payments',\n",
       "        395.684889347144, 'Poor'],\n",
       "       [99998, 'CUS_0x942c', 25, ..., 'Low_spent_Large_value_payments',\n",
       "        395.684889347144, 'Standard'],\n",
       "       [99999, 'CUS_0x942c', 25, ..., 'High_spent_Large_value_payments',\n",
       "        395.684889347144, 'Poor']], dtype=object)"
      ]
     },
     "execution_count": 3,
     "metadata": {},
     "output_type": "execute_result"
    }
   ],
   "source": [
    "train_data = train_df.values\n",
    "test_data  = test_df.values\n",
    "\n",
    "train_data"
   ]
  },
  {
   "cell_type": "code",
   "execution_count": 4,
   "id": "7dda539b",
   "metadata": {},
   "outputs": [],
   "source": [
    "# Eliminando colunas que não usaremos na classificação\n",
    "drop_cols = [0, 1, 9]  # Unnamed, Customer_ID e Type_of_Loan\n",
    "\n",
    "train_data = np.delete(train_data, obj=drop_cols, axis=1)\n",
    "test_data  = np.delete(test_data, obj=drop_cols, axis=1)"
   ]
  },
  {
   "cell_type": "code",
   "execution_count": 5,
   "id": "8d8e56ba",
   "metadata": {},
   "outputs": [],
   "source": [
    "# Separando target\n",
    "train_y = train_data[:, -1]\n",
    "train_x = train_data[:, :-1]\n",
    "\n",
    "# test_y = test_data[:, -1]\n",
    "test_x = test_data[:, :-1]"
   ]
  },
  {
   "cell_type": "code",
   "execution_count": 6,
   "id": "39f92e11",
   "metadata": {},
   "outputs": [
    {
     "name": "stdout",
     "output_type": "stream",
     "text": [
      "[[0.]\n",
      " [0.]\n",
      " [0.]\n",
      " ...\n",
      " [1.]\n",
      " [2.]\n",
      " [1.]]\n",
      "[['Scientist' 'Good' 'High_spent_Small_value_payments']\n",
      " ['Scientist' 'Good' 'Low_spent_Large_value_payments']\n",
      " ['Scientist' 'Good' 'Low_spent_Medium_value_payments']\n",
      " ...\n",
      " ['Mechanic' 'Good' 'High_spent_Large_value_payments']\n",
      " ['Mechanic' 'Good' 'Low_spent_Large_value_payments']\n",
      " ['Mechanic' 'Good' 'High_spent_Large_value_payments']]\n",
      "[[23 1824.8433333333328 3 ... 0.0 0.0 0.0]\n",
      " [23 1824.8433333333328 3 ... 1.0 0.0 0.0]\n",
      " [23 1824.8433333333328 3 ... 0.0 1.0 0.0]\n",
      " ...\n",
      " [25 3359.415833333333 4 ... 0.0 0.0 0.0]\n",
      " [25 3359.415833333333 4 ... 1.0 0.0 0.0]\n",
      " [25 3359.415833333333 4 ... 0.0 0.0 0.0]]\n",
      "[[23 1824.8433333333328 3 ... 0.0 0.0 1.0]\n",
      " [23 1824.8433333333328 3 ... 0.0 0.0 0.0]\n",
      " [23 1824.8433333333328 3 ... 0.0 1.0 0.0]\n",
      " ...\n",
      " [25 3359.415833333333 4 ... 1.0 0.0 0.0]\n",
      " [25 3359.415833333333 4 ... 0.0 0.0 0.0]\n",
      " [25 3359.415833333333 4 ... 0.0 1.0 0.0]]\n"
     ]
    }
   ],
   "source": [
    "# Encoding categorical attributes from target\n",
    "from sklearn.preprocessing import OrdinalEncoder\n",
    "\n",
    "train_y = OrdinalEncoder().fit_transform(np.reshape(train_y, (-1, 1)))\n",
    "print(train_y)\n",
    "\n",
    "# Encoding categorical attributes from data\n",
    "from sklearn.preprocessing import OneHotEncoder\n",
    "\n",
    "code_cols = [1, 11, 17]\n",
    "print(train_x[:, code_cols])\n",
    "\n",
    "# Talvez fosse interessante transformar Occupation em Exatas, Humanas, etc,\n",
    "# por causa do número de novas colunas\n",
    "new_occupation   = OneHotEncoder(drop='first').fit_transform(np.reshape(train_x[:, code_cols[0]], (-1, 1))).toarray()\n",
    "new_creditmix    = OneHotEncoder(drop='first').fit_transform(np.reshape(train_x[:, code_cols[1]], (-1, 1))).toarray()\n",
    "new_paybehaviour = OneHotEncoder(drop='first').fit_transform(np.reshape(train_x[:, code_cols[2]], (-1, 1))).toarray()\n",
    "\n",
    "temp = np.delete(train_x, obj=code_cols, axis=1)\n",
    "temp = np.append(temp, new_occupation, axis=1)\n",
    "temp = np.append(temp, new_creditmix, axis=1)\n",
    "temp = np.append(temp, new_paybehaviour, axis=1)\n",
    "train_x = temp\n",
    "\n",
    "# Agora pro testset\n",
    "new_occupation   = OneHotEncoder(drop='first').fit_transform(np.reshape(test_x[:, code_cols[0]], (-1, 1))).toarray()\n",
    "new_creditmix    = OneHotEncoder(drop='first').fit_transform(np.reshape(test_x[:, code_cols[1]], (-1, 1))).toarray()\n",
    "new_paybehaviour = OneHotEncoder(drop='first').fit_transform(np.reshape(test_x[:, code_cols[2]], (-1, 1))).toarray()\n",
    "\n",
    "temp = np.delete(test_x, obj=code_cols, axis=1)\n",
    "temp = np.append(temp, new_occupation, axis=1)\n",
    "temp = np.append(temp, new_creditmix, axis=1)\n",
    "temp = np.append(temp, new_paybehaviour, axis=1)\n",
    "test_x = temp\n",
    "\n",
    "print(train_x)\n",
    "print(test_x)"
   ]
  },
  {
   "cell_type": "code",
   "execution_count": 7,
   "id": "8e129527",
   "metadata": {},
   "outputs": [],
   "source": [
    "# Saving train and test sets in CSV format\n",
    "\n",
    "save_dir = 'data/credit-score'\n",
    "\n",
    "train_save = np.append(train_x, train_y, axis=1)\n",
    "train_save\n",
    "\n",
    "pd.DataFrame(train_save).to_csv(f'{save_dir}/ready_train.csv', header=None, index=None)\n",
    "pd.DataFrame(test_x).to_csv(f'{save_dir}/ready_test.csv', header=None, index=None)"
   ]
  }
 ],
 "metadata": {
  "kernelspec": {
   "display_name": "Python 3 (ipykernel)",
   "language": "python",
   "name": "python3"
  },
  "language_info": {
   "codemirror_mode": {
    "name": "ipython",
    "version": 3
   },
   "file_extension": ".py",
   "mimetype": "text/x-python",
   "name": "python",
   "nbconvert_exporter": "python",
   "pygments_lexer": "ipython3",
   "version": "3.8.12"
  }
 },
 "nbformat": 4,
 "nbformat_minor": 5
}
